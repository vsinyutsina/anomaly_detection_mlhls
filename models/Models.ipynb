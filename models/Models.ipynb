{
  "nbformat": 4,
  "nbformat_minor": 0,
  "metadata": {
    "colab": {
      "provenance": [],
      "machine_shape": "hm"
    },
    "kernelspec": {
      "name": "python3",
      "display_name": "Python 3"
    },
    "language_info": {
      "name": "python"
    },
    "gpuClass": "premium"
  },
  "cells": [
    {
      "cell_type": "code",
      "source": [
        "!pip install category_encoders"
      ],
      "metadata": {
        "colab": {
          "base_uri": "https://localhost:8080/"
        },
        "id": "gif8fMlsE_r1",
        "outputId": "54f5cc14-7a43-4ada-dd8c-d4698d81bd44"
      },
      "execution_count": null,
      "outputs": [
        {
          "output_type": "stream",
          "name": "stdout",
          "text": [
            "Looking in indexes: https://pypi.org/simple, https://us-python.pkg.dev/colab-wheels/public/simple/\n",
            "Collecting category_encoders\n",
            "  Downloading category_encoders-2.5.1.post0-py2.py3-none-any.whl (72 kB)\n",
            "\u001b[K     |████████████████████████████████| 72 kB 745 kB/s \n",
            "\u001b[?25hRequirement already satisfied: patsy>=0.5.1 in /usr/local/lib/python3.8/dist-packages (from category_encoders) (0.5.3)\n",
            "Requirement already satisfied: pandas>=1.0.5 in /usr/local/lib/python3.8/dist-packages (from category_encoders) (1.3.5)\n",
            "Requirement already satisfied: scipy>=1.0.0 in /usr/local/lib/python3.8/dist-packages (from category_encoders) (1.7.3)\n",
            "Requirement already satisfied: numpy>=1.14.0 in /usr/local/lib/python3.8/dist-packages (from category_encoders) (1.21.6)\n",
            "Requirement already satisfied: statsmodels>=0.9.0 in /usr/local/lib/python3.8/dist-packages (from category_encoders) (0.12.2)\n",
            "Requirement already satisfied: scikit-learn>=0.20.0 in /usr/local/lib/python3.8/dist-packages (from category_encoders) (1.0.2)\n",
            "Requirement already satisfied: python-dateutil>=2.7.3 in /usr/local/lib/python3.8/dist-packages (from pandas>=1.0.5->category_encoders) (2.8.2)\n",
            "Requirement already satisfied: pytz>=2017.3 in /usr/local/lib/python3.8/dist-packages (from pandas>=1.0.5->category_encoders) (2022.6)\n",
            "Requirement already satisfied: six in /usr/local/lib/python3.8/dist-packages (from patsy>=0.5.1->category_encoders) (1.15.0)\n",
            "Requirement already satisfied: joblib>=0.11 in /usr/local/lib/python3.8/dist-packages (from scikit-learn>=0.20.0->category_encoders) (1.2.0)\n",
            "Requirement already satisfied: threadpoolctl>=2.0.0 in /usr/local/lib/python3.8/dist-packages (from scikit-learn>=0.20.0->category_encoders) (3.1.0)\n",
            "Installing collected packages: category-encoders\n",
            "Successfully installed category-encoders-2.5.1.post0\n"
          ]
        }
      ]
    },
    {
      "cell_type": "code",
      "source": [
        "import pandas as pd\n",
        "import numpy as np\n",
        "import seaborn as sns\n",
        "import matplotlib.pyplot as plt\n",
        "import random\n",
        "\n",
        "from sklearn.model_selection import GridSearchCV\n",
        "from sklearn.preprocessing import StandardScaler\n",
        "from sklearn.linear_model import LogisticRegression\n",
        "from sklearn.metrics import roc_auc_score\n",
        "from category_encoders.one_hot import OneHotEncoder \n",
        "\n",
        "from tqdm import tqdm"
      ],
      "metadata": {
        "id": "VYtYssAJgWA8"
      },
      "execution_count": null,
      "outputs": []
    },
    {
      "cell_type": "code",
      "source": [
        "!mkdir ~/.kaggle\n",
        "!touch ~/.kaggle/kaggle.json\n",
        "\n",
        "api_token = {\"username\":\"\",\n",
        "             \"key\":\"\"}\n",
        "\n",
        "import json\n",
        "\n",
        "with open('/root/.kaggle/kaggle.json', 'w') as file:\n",
        "    json.dump(api_token, file)\n",
        "\n",
        "!chmod 600 ~/.kaggle/kaggle.json\n",
        "\n",
        "import kaggle\n",
        "\n",
        "!kaggle competitions download -c ieee-fraud-detection\n",
        "\n",
        "!unzip ieee-fraud-detection"
      ],
      "metadata": {
        "colab": {
          "base_uri": "https://localhost:8080/"
        },
        "id": "aD0Fy11U_ejh",
        "outputId": "520a801f-1c04-4ab1-9bc3-ffa7d0bbb5ef"
      },
      "execution_count": null,
      "outputs": [
        {
          "output_type": "stream",
          "name": "stdout",
          "text": [
            "Downloading ieee-fraud-detection.zip to /content\n",
            " 98% 116M/118M [00:03<00:00, 38.7MB/s]\n",
            "100% 118M/118M [00:03<00:00, 33.1MB/s]\n",
            "Archive:  ieee-fraud-detection.zip\n",
            "  inflating: sample_submission.csv   \n",
            "  inflating: test_identity.csv       \n",
            "  inflating: test_transaction.csv    \n",
            "  inflating: train_identity.csv      \n",
            "  inflating: train_transaction.csv   \n"
          ]
        }
      ]
    },
    {
      "cell_type": "code",
      "source": [
        "train_identity = pd.read_csv('train_identity.csv')\n",
        "train_transaction = pd.read_csv('train_transaction.csv')\n",
        "train_transaction.isFraud = train_transaction.isFraud.astype('str')\n",
        "\n",
        "test_identity = pd.read_csv('test_identity.csv')\n",
        "test_transaction = pd.read_csv('test_transaction.csv')"
      ],
      "metadata": {
        "id": "Ksh30rXNY042"
      },
      "execution_count": null,
      "outputs": []
    },
    {
      "cell_type": "code",
      "source": [
        "# трейн\n",
        "X_train =  train_transaction.drop('isFraud', axis=1)\n",
        "X_train = X_train.merge(train_identity, how='outer', on='TransactionID')\n",
        "\n",
        "y_train = train_transaction['isFraud']\n",
        "\n",
        "# тест\n",
        "X_test = test_transaction.merge(test_identity, how='outer', on='TransactionID')"
      ],
      "metadata": {
        "id": "ysV2rxvsgTuv"
      },
      "execution_count": null,
      "outputs": []
    },
    {
      "cell_type": "code",
      "source": [
        "# del train_transaction, train_identity, test_transaction, test_identity"
      ],
      "metadata": {
        "id": "5e4EEfR1KDrs"
      },
      "execution_count": null,
      "outputs": []
    },
    {
      "cell_type": "markdown",
      "source": [
        "# Описание плана\n",
        "* Сделать предобработку признаков, оставить только самые полезные\n",
        "* Для линейных моделей выкидываем коррелирующие признаки\n",
        "* Бейзлайн - предсказываем мажоритарный класс\n",
        "* Обучить логистическую регресию с L1 регуляризацией и посмотреть у каких признаков нулевые веса\n",
        "* Накладывать на линейную фкнкцию после зануления весов более сложные конструкции признаки могут выстрелить в бустинге, но не могут выстрелить в регрессии\n",
        "* взять подвыборку 70к и понизить размерность до 2х T-SNE/PCA, сдлеать скеттер плот и выделить фрод не фрод показывает возможность классификации\n",
        "\n",
        "\n",
        "## Признаки\n",
        "\n",
        "На основе EDA мы выделили для себя следующие полезные признаки"
      ],
      "metadata": {
        "id": "f6rJ8cCCjQjM"
      }
    },
    {
      "cell_type": "code",
      "source": [
        "v_cols = ['V166', 'V77', 'V305', 'V47', 'V240', \n",
        "     'V241', 'V120', 'V171', 'V3', 'V56', \n",
        "     'V107', 'V260', 'V109', 'V282', \n",
        "     'V7', 'V124', 'V46', 'V115', 'V1', \n",
        "     'V6', 'V220', 'V283', 'V281', 'V209', \n",
        "     'V173', 'V223', 'V78', 'V118', 'V121', \n",
        "     'V210', 'V2', 'V174', 'V226', 'V169', \n",
        "     'V122', 'V286', 'V55', 'V138', 'V208', \n",
        "     'V329', 'V273', 'V42', 'V52', 'V265', \n",
        "     'V266', 'V229', 'V276', 'V235', 'V186',\n",
        "     'V91', 'V234', 'V338', 'V158', 'V326', \n",
        "     'V259', 'V246', 'V160', 'V187', 'V303', \n",
        "     'V268', 'V89', 'V41', 'V247', 'V195',\n",
        "     'V325', 'V315', 'V292', 'V272', 'V201', \n",
        "     'V163', 'V137', 'V130', 'V113', 'V9', \n",
        "     'V87', 'V83', 'V76', 'V67', 'V62', \n",
        "     'V54', 'V5', 'V45', 'V38', 'V36', \n",
        "     'V301', 'V289', 'V262', 'V26', 'V251', \n",
        "     'V24', 'V239', 'V20', 'V188', 'V185', \n",
        "     'V175', 'V170', 'V147', 'V142', \n",
        "     'V140', 'V13', 'V125', 'V119', 'V116', 'V110']"
      ],
      "metadata": {
        "id": "kIB2PZuj-l2w"
      },
      "execution_count": null,
      "outputs": []
    },
    {
      "cell_type": "code",
      "source": [
        "cols_float = ['TransactionDT', 'TransactionAmt', \n",
        "              'addr1', 'addr2',\n",
        "              'dist1', 'dist2', \n",
        "              'card1', 'card2', 'card3', 'card5',\n",
        "              'C1', 'C3', 'C5', 'C9', 'C13',\n",
        "              'D1','D7', 'D8', 'D9', 'D10', 'D11', 'D12']\n",
        "cols_float.extend(v_cols)\n",
        "\n",
        "\n",
        "cols_cat = ['ProductCD', 'card4', 'card6', 'P_emaildomain', 'R_emaildomain',\n",
        "            'DeviceType', 'DeviceInfo']\n",
        "cols_cat.extend(['M' + str(i) for i in range(1, 10)])"
      ],
      "metadata": {
        "id": "eoFV4PG65esc"
      },
      "execution_count": null,
      "outputs": []
    },
    {
      "cell_type": "code",
      "source": [
        "X_train = X_train[cols_float + cols_cat]\n",
        "X_test = X_test[cols_float + cols_cat]"
      ],
      "metadata": {
        "id": "Le7Noc3bLGF2"
      },
      "execution_count": null,
      "outputs": []
    },
    {
      "cell_type": "markdown",
      "source": [
        "## Заполним пропуски"
      ],
      "metadata": {
        "id": "c0pTEm4wAcf5"
      }
    },
    {
      "cell_type": "code",
      "source": [
        "for col in cols_float:\n",
        "  X_train.loc[X_train[col].isna(), col] = X_train[col].mean()\n",
        "  X_test.loc[X_test[col].isna(), col] = X_test[col].mean()\n",
        "\n",
        "\n",
        "for col in cols_cat:\n",
        "  X_train.loc[X_train[col].isna(), col] = 'no_' + col\n",
        "  X_test.loc[X_test[col].isna(), col] = 'no_' + col "
      ],
      "metadata": {
        "id": "vp1QA0VP5exS",
        "colab": {
          "base_uri": "https://localhost:8080/"
        },
        "outputId": "6b4d58af-58ec-4502-d9d8-a095102ae965"
      },
      "execution_count": null,
      "outputs": [
        {
          "output_type": "stream",
          "name": "stderr",
          "text": [
            "/usr/local/lib/python3.8/dist-packages/pandas/core/indexing.py:1817: SettingWithCopyWarning: \n",
            "A value is trying to be set on a copy of a slice from a DataFrame.\n",
            "Try using .loc[row_indexer,col_indexer] = value instead\n",
            "\n",
            "See the caveats in the documentation: https://pandas.pydata.org/pandas-docs/stable/user_guide/indexing.html#returning-a-view-versus-a-copy\n",
            "  self._setitem_single_column(loc, value, pi)\n"
          ]
        }
      ]
    },
    {
      "cell_type": "markdown",
      "source": [
        "## Подкинем пару новых признаков"
      ],
      "metadata": {
        "id": "oglsslf2H3fr"
      }
    },
    {
      "cell_type": "code",
      "source": [
        "X_train['TransactionAmt_cents'] = X_train['TransactionAmt'].astype('str').str.split('.').apply(lambda x: x[1])\n",
        "X_train['TransactionAmt_int_sum'] = X_train['TransactionAmt'].astype('str').str.split('.').apply(lambda x: x[0])\n",
        "\n",
        "X_test['TransactionAmt_cents'] = X_test['TransactionAmt'].astype('str').str.split('.').apply(lambda x: x[1])\n",
        "X_test['TransactionAmt_int_sum'] = X_test['TransactionAmt'].astype('str').str.split('.').apply(lambda x: x[0])"
      ],
      "metadata": {
        "id": "uj3Rt20_Fpi5"
      },
      "execution_count": null,
      "outputs": []
    },
    {
      "cell_type": "code",
      "source": [
        "cols_float.extend(['TransactionAmt_cents', 'TransactionAmt_int_sum'])"
      ],
      "metadata": {
        "id": "Rp4je3rQHHqL"
      },
      "execution_count": null,
      "outputs": []
    },
    {
      "cell_type": "code",
      "source": [
        "def dttm(date):\n",
        "    date = date - 86400\n",
        "    return (date // 86400 // 7,\n",
        "        date // 86400 % 7, \n",
        "        date % 86400 // 3600,\n",
        "        date % 86400 % 3600 // 60,\n",
        "        date % 86400 % 3600 % 60)\n",
        "\n",
        "\n",
        "X_train['dttm_week'] = X_train.TransactionDT.apply(dttm).apply(lambda x: x[0])\n",
        "X_train['dttm_day'] = X_train.TransactionDT.apply(dttm).apply(lambda x: x[1])\n",
        "X_train['dttm_hour'] = X_train.TransactionDT.apply(dttm).apply(lambda x: x[2])\n",
        "X_train['dttm_minute'] = X_train.TransactionDT.apply(dttm).apply(lambda x: x[3])\n",
        "X_train['dttm_sec'] = X_train.TransactionDT.apply(dttm).apply(lambda x: x[4])\n",
        "\n",
        "X_test['dttm_week'] = X_test.TransactionDT.apply(dttm).apply(lambda x: x[0])\n",
        "X_test['dttm_day'] = X_test.TransactionDT.apply(dttm).apply(lambda x: x[1])\n",
        "X_test['dttm_hour'] = X_test.TransactionDT.apply(dttm).apply(lambda x: x[2])\n",
        "X_test['dttm_minute'] = X_test.TransactionDT.apply(dttm).apply(lambda x: x[3])\n",
        "X_test['dttm_sec'] = X_test.TransactionDT.apply(dttm).apply(lambda x: x[4])"
      ],
      "metadata": {
        "id": "Sdz8b1lvH6a8"
      },
      "execution_count": null,
      "outputs": []
    },
    {
      "cell_type": "code",
      "source": [
        "cols_float.extend(['dttm_week', 'dttm_day', 'dttm_hour', 'dttm_minute', 'dttm_sec'])"
      ],
      "metadata": {
        "id": "WOhFW5CsIpuN"
      },
      "execution_count": null,
      "outputs": []
    },
    {
      "cell_type": "code",
      "source": [
        "deviceinfo_most_pop = X_train.query('DeviceInfo != \"no_DeviceInfo\"')['DeviceInfo']\\\n",
        "                                                                              .value_counts()\\\n",
        "                                                                              .head(5)\\\n",
        "                                                                              .index\\\n",
        "                                                                              .tolist()\n",
        "deviceinfo_most_pop.append('no_DeviceInfo')\n",
        "\n",
        "X_train.loc[:, 'DeviceInfo'] = X_train['DeviceInfo'].apply(lambda x: x if x in deviceinfo_most_pop else 'other')\n",
        "X_test.loc[:, 'DeviceInfo'] = X_test['DeviceInfo'].apply(lambda x: x if x in deviceinfo_most_pop else 'other')"
      ],
      "metadata": {
        "id": "wXRI8c_3VRon"
      },
      "execution_count": null,
      "outputs": []
    },
    {
      "cell_type": "markdown",
      "source": [
        "## Нормализуем вещественные признаки"
      ],
      "metadata": {
        "id": "1AWbVNbHCT5q"
      }
    },
    {
      "cell_type": "code",
      "source": [
        "standard_scaler = StandardScaler(copy=True)\n",
        "\n",
        "for col in cols_float[:-7]:\n",
        "  if X_train[X_train[col] < 0].shape[0]:\n",
        "    continue\n",
        "\n",
        "  X_train[col] = np.log(X_train[col])\n",
        "  X_test[col] = np.log(X_test[col])\n",
        "\n",
        "X_train[cols_float] = X_train[cols_float].replace(np.inf * -1, -1000000000)\n",
        "X_test[cols_float] = X_test[cols_float].replace(np.inf * -1, -1000000000)\n",
        "\n",
        "X_train[cols_float] = X_train[cols_float].replace(np.inf, 1000000000)\n",
        "X_test[cols_float] = X_test[cols_float].replace(np.inf, 1000000000)\n",
        "\n",
        "X_train_matrix = standard_scaler.fit_transform(X_train[cols_float])\n",
        "X_test_matrix = standard_scaler.transform(X_test[cols_float])"
      ],
      "metadata": {
        "id": "5Ihwman-5e9K",
        "colab": {
          "base_uri": "https://localhost:8080/"
        },
        "outputId": "676e1242-fd17-49a3-9ccc-aa7c7765559c"
      },
      "execution_count": null,
      "outputs": [
        {
          "output_type": "stream",
          "name": "stderr",
          "text": [
            "/usr/local/lib/python3.8/dist-packages/pandas/core/arraylike.py:364: RuntimeWarning: divide by zero encountered in log\n",
            "  result = getattr(ufunc, method)(*inputs, **kwargs)\n"
          ]
        }
      ]
    },
    {
      "cell_type": "code",
      "source": [
        "for col in cols_float:\n",
        "  na_percent = X_train[X_train[col].isna()].shape[0]/X_train.shape[0] * 100\n",
        "  if na_percent > 0:\n",
        "    print(col, na_percent)"
      ],
      "metadata": {
        "id": "Egy8d4R8dXsQ"
      },
      "execution_count": null,
      "outputs": []
    },
    {
      "cell_type": "code",
      "source": [
        "X_train_matrix = pd.DataFrame(X_train_matrix) \n",
        "X_train_matrix.columns = X_train[cols_float].columns\n",
        "\n",
        "X_test_matrix = pd.DataFrame(X_test_matrix) \n",
        "X_test_matrix.columns = X_test[cols_float].columns"
      ],
      "metadata": {
        "id": "LJwDcvZvEisZ"
      },
      "execution_count": null,
      "outputs": []
    },
    {
      "cell_type": "code",
      "source": [
        "# X_train_matrix.to_csv('X_train_matrix.csv') \n",
        "# X_test_matrix.to_csv('X_test_matrix.csv') "
      ],
      "metadata": {
        "id": "jiiXvdd9L7ZY"
      },
      "execution_count": null,
      "outputs": []
    },
    {
      "cell_type": "code",
      "source": [
        "# !zip X_train_matrix.zip X_train_matrix.csv\n",
        "# !zip X_test_matrix.zip X_test_matrix.csv"
      ],
      "metadata": {
        "id": "d7cmerXLMDJP"
      },
      "execution_count": null,
      "outputs": []
    },
    {
      "cell_type": "code",
      "source": [
        "# from google.colab import files\n",
        "\n",
        "# files.download('X_train_matrix.zip')\n",
        "# files.download('X_test_matrix.zip')"
      ],
      "metadata": {
        "id": "GCtEeM3IMRJx"
      },
      "execution_count": null,
      "outputs": []
    },
    {
      "cell_type": "markdown",
      "source": [
        "## Кодируем категориальные признаки"
      ],
      "metadata": {
        "id": "xnmjn7UNC6F5"
      }
    },
    {
      "cell_type": "code",
      "source": [
        "for col in cols_cat:\n",
        "  print(col, X_train[col].nunique())"
      ],
      "metadata": {
        "colab": {
          "base_uri": "https://localhost:8080/"
        },
        "id": "bvged-XBYUpa",
        "outputId": "df29856f-c6a6-4e18-eba7-24d8072c8caf"
      },
      "execution_count": null,
      "outputs": [
        {
          "output_type": "stream",
          "name": "stdout",
          "text": [
            "ProductCD 5\n",
            "card4 5\n",
            "card6 5\n",
            "P_emaildomain 60\n",
            "R_emaildomain 61\n",
            "DeviceType 3\n",
            "DeviceInfo 7\n",
            "M1 3\n",
            "M2 3\n",
            "M3 3\n",
            "M4 4\n",
            "M5 3\n",
            "M6 3\n",
            "M7 3\n",
            "M8 3\n",
            "M9 3\n"
          ]
        }
      ]
    },
    {
      "cell_type": "code",
      "source": [
        "ohe_enc = OneHotEncoder()\n",
        "\n",
        "X_train_matrix_cat = ohe_enc.fit_transform(X_train[cols_cat])\n",
        "X_test_matrix_cat = ohe_enc.transform(X_test[cols_cat])"
      ],
      "metadata": {
        "id": "oj1OCfN-5fAG"
      },
      "execution_count": null,
      "outputs": []
    },
    {
      "cell_type": "code",
      "source": [
        "X_train_matrix_cat = pd.DataFrame(X_train_matrix_cat) \n",
        "X_train_matrix_cat.columns = ohe_enc.get_feature_names()\n",
        "\n",
        "X_test_matrix_cat = pd.DataFrame(X_test_matrix_cat) \n",
        "X_test_matrix_cat.columns = ohe_enc.get_feature_names()"
      ],
      "metadata": {
        "id": "4PHlK2LI5fCp"
      },
      "execution_count": null,
      "outputs": []
    },
    {
      "cell_type": "code",
      "source": [
        "X_train = pd.concat([X_train_matrix, X_train_matrix_cat], axis=1)\n",
        "X_test = pd.concat([X_test_matrix, X_test_matrix_cat], axis=1)"
      ],
      "metadata": {
        "id": "cPrwWfOr5fEu"
      },
      "execution_count": null,
      "outputs": []
    },
    {
      "cell_type": "code",
      "source": [
        "assert X_test.shape[1] == X_train.shape[1]"
      ],
      "metadata": {
        "id": "vke1hLZXPtcI"
      },
      "execution_count": null,
      "outputs": []
    },
    {
      "cell_type": "markdown",
      "source": [
        "### Log Reg с L2 регуляризацией"
      ],
      "metadata": {
        "id": "2oSUhIYHaKBO"
      }
    },
    {
      "cell_type": "code",
      "source": [
        "# разделим данные на обучающую и тестовую выборки\n",
        "from sklearn.model_selection import train_test_split\n",
        "\n",
        "X_train, X_val, y_train, y_val = train_test_split(X_train, y_train, train_size=0.7)"
      ],
      "metadata": {
        "id": "8pXkpc5mP0bx"
      },
      "execution_count": null,
      "outputs": []
    },
    {
      "cell_type": "code",
      "source": [
        "# обучение логистической регрессии\n",
        "from sklearn.linear_model import LogisticRegression\n",
        "from tqdm import tqdm\n",
        "\n",
        "lr = LogisticRegression(max_iter=10000,\n",
        "                        warm_start=True)\n",
        "\n",
        "ran = np.arange(y_train.shape[0])\n",
        "inds = np.array_split(ran, 10)\n",
        "\n",
        "inds = [np.concatenate((chunk, np.array(random.sample(list(ran), k=100))), axis=None) for chunk in inds]\n",
        "\n",
        "for chunk in tqdm(inds):\n",
        "  lr.fit(X_train.iloc[chunk, :], y_train.iloc[chunk])"
      ],
      "metadata": {
        "id": "sM5H4zvRP2gE",
        "colab": {
          "base_uri": "https://localhost:8080/"
        },
        "outputId": "d6c3bfce-3525-4adf-aa6b-2c404e4e51eb"
      },
      "execution_count": null,
      "outputs": [
        {
          "output_type": "stream",
          "name": "stderr",
          "text": [
            "100%|██████████| 10/10 [01:57<00:00, 11.75s/it]\n"
          ]
        }
      ]
    },
    {
      "cell_type": "code",
      "source": [
        "pred_lr = lr.predict_proba(X_val)"
      ],
      "metadata": {
        "id": "sB9qQydRP5Tb"
      },
      "execution_count": null,
      "outputs": []
    },
    {
      "cell_type": "code",
      "source": [
        "# Посчитаем пороговое значение (если будет предсказывать мажоритарный класс)\n",
        "from sklearn.metrics import roc_auc_score\n",
        "\n",
        "benchmark = ['0' for _ in range(len(y_val))]\n",
        "\n",
        "roc_auc_score(y_val, benchmark)"
      ],
      "metadata": {
        "colab": {
          "base_uri": "https://localhost:8080/"
        },
        "id": "_Q5CIKKYfCEO",
        "outputId": "6f8b8cbf-322c-4e9b-b728-0f0b73c062b5"
      },
      "execution_count": null,
      "outputs": [
        {
          "output_type": "stream",
          "name": "stderr",
          "text": [
            "/usr/local/lib/python3.8/dist-packages/sklearn/metrics/_ranking.py:546: FutureWarning: Arrays of bytes/strings is being converted to decimal numbers if dtype='numeric'. This behavior is deprecated in 0.24 and will be removed in 1.1 (renaming of 0.26). Please convert your data to numeric values explicitly instead.\n",
            "  y_score = check_array(y_score, ensure_2d=False)\n"
          ]
        },
        {
          "output_type": "execute_result",
          "data": {
            "text/plain": [
              "0.5"
            ]
          },
          "metadata": {},
          "execution_count": 29
        }
      ]
    },
    {
      "cell_type": "code",
      "source": [
        "# посчитаем roc auc для обученого лог рега\n",
        "y_val_pred_for_fraud = [x[1] for x in pred_lr]\n",
        "\n",
        "roc_auc_score(y_val, y_val_pred_for_fraud)"
      ],
      "metadata": {
        "colab": {
          "base_uri": "https://localhost:8080/"
        },
        "id": "aKcJ-mr0eWFP",
        "outputId": "83724713-e2e0-4e3b-c670-b5c6eeb47138"
      },
      "execution_count": null,
      "outputs": [
        {
          "output_type": "execute_result",
          "data": {
            "text/plain": [
              "0.8393704590855569"
            ]
          },
          "metadata": {},
          "execution_count": 30
        }
      ]
    },
    {
      "cell_type": "markdown",
      "source": [
        "Как минимум первая моделька уже неплохо обучилась и превысила пороговое значение. Мы уже немного молодцы)\n",
        "\n",
        "## Log Reg с l1-регуляризацией\n",
        "\n"
      ],
      "metadata": {
        "id": "5rhfKhuTl8Q3"
      }
    },
    {
      "cell_type": "code",
      "source": [
        "lr = LogisticRegression(max_iter=10000,\n",
        "                        warm_start=True,\n",
        "                        penalty='l1',\n",
        "                        solver='liblinear'\n",
        "                        )\n",
        "\n",
        "ran = np.arange(y_train.shape[0])\n",
        "inds = np.array_split(ran, 10)\n",
        "\n",
        "inds = [np.concatenate((chunk, np.array(random.sample(list(ran), k=100))), axis=None) for chunk in inds]\n",
        "\n",
        "for chunk in tqdm(inds):\n",
        "  lr.fit(X_train.iloc[chunk, :], y_train.iloc[chunk])"
      ],
      "metadata": {
        "id": "R6MLDr-ameFd"
      },
      "execution_count": null,
      "outputs": []
    },
    {
      "cell_type": "code",
      "source": [
        "pred_lr = lr.predict_proba(X_val)"
      ],
      "metadata": {
        "id": "YrBMYlctnvxG"
      },
      "execution_count": null,
      "outputs": []
    },
    {
      "cell_type": "code",
      "source": [
        "y_val_pred_for_fraud = [x[1] for x in pred_lr]\n",
        "\n",
        "roc_auc_score(y_val, y_val_pred_for_fraud)"
      ],
      "metadata": {
        "colab": {
          "base_uri": "https://localhost:8080/"
        },
        "id": "YGrW9TTpnzJy",
        "outputId": "f1107331-4938-482d-f97d-9ec7817fe329"
      },
      "execution_count": null,
      "outputs": [
        {
          "output_type": "execute_result",
          "data": {
            "text/plain": [
              "0.8405952990455513"
            ]
          },
          "metadata": {},
          "execution_count": 33
        }
      ]
    },
    {
      "cell_type": "code",
      "source": [
        "import pickle\n",
        "from datetime import datetime as dt\n",
        "\n",
        "model_name = f'best_model_{dt.today()}.pkl'\n",
        "with open(model_name, 'wb') as f:\n",
        "    pickle.dump(lr, f, protocol=pickle.HIGHEST_PROTOCOL)"
      ],
      "metadata": {
        "id": "79_nvqvvzMEx"
      },
      "execution_count": null,
      "outputs": []
    },
    {
      "cell_type": "code",
      "source": [
        "from google.colab import files\n",
        "\n",
        "files.download(model_name) "
      ],
      "metadata": {
        "colab": {
          "base_uri": "https://localhost:8080/",
          "height": 17
        },
        "id": "qHaq3vr8zUCa",
        "outputId": "af51470c-6fcd-45ac-a766-52345bce64d5"
      },
      "execution_count": null,
      "outputs": [
        {
          "output_type": "display_data",
          "data": {
            "text/plain": [
              "<IPython.core.display.Javascript object>"
            ],
            "application/javascript": [
              "\n",
              "    async function download(id, filename, size) {\n",
              "      if (!google.colab.kernel.accessAllowed) {\n",
              "        return;\n",
              "      }\n",
              "      const div = document.createElement('div');\n",
              "      const label = document.createElement('label');\n",
              "      label.textContent = `Downloading \"${filename}\": `;\n",
              "      div.appendChild(label);\n",
              "      const progress = document.createElement('progress');\n",
              "      progress.max = size;\n",
              "      div.appendChild(progress);\n",
              "      document.body.appendChild(div);\n",
              "\n",
              "      const buffers = [];\n",
              "      let downloaded = 0;\n",
              "\n",
              "      const channel = await google.colab.kernel.comms.open(id);\n",
              "      // Send a message to notify the kernel that we're ready.\n",
              "      channel.send({})\n",
              "\n",
              "      for await (const message of channel.messages) {\n",
              "        // Send a message to notify the kernel that we're ready.\n",
              "        channel.send({})\n",
              "        if (message.buffers) {\n",
              "          for (const buffer of message.buffers) {\n",
              "            buffers.push(buffer);\n",
              "            downloaded += buffer.byteLength;\n",
              "            progress.value = downloaded;\n",
              "          }\n",
              "        }\n",
              "      }\n",
              "      const blob = new Blob(buffers, {type: 'application/binary'});\n",
              "      const a = document.createElement('a');\n",
              "      a.href = window.URL.createObjectURL(blob);\n",
              "      a.download = filename;\n",
              "      div.appendChild(a);\n",
              "      a.click();\n",
              "      div.remove();\n",
              "    }\n",
              "  "
            ]
          },
          "metadata": {}
        },
        {
          "output_type": "display_data",
          "data": {
            "text/plain": [
              "<IPython.core.display.Javascript object>"
            ],
            "application/javascript": [
              "download(\"download_ca59b30e-aa20-4e03-9d5c-352c9d7eb94e\", \"best_model_2022-12-23 16:38:11.565860.pkl\", 7006)"
            ]
          },
          "metadata": {}
        }
      ]
    },
    {
      "cell_type": "code",
      "source": [
        "import pickle \n",
        "\n",
        "with open('best_model_2022-12-23 16_38_11.565860.pkl', 'rb') as f:\n",
        "  lr = pickle.load(f)"
      ],
      "metadata": {
        "id": "4fJF4RnuQGCV"
      },
      "execution_count": null,
      "outputs": []
    },
    {
      "cell_type": "code",
      "source": [
        "important_features = []\n",
        "for i, val in enumerate(lr.coef_[0]):\n",
        "  if val:\n",
        "    continue\n",
        "  important_features.append(i)"
      ],
      "metadata": {
        "id": "71Q5aLlUmeRQ"
      },
      "execution_count": null,
      "outputs": []
    },
    {
      "cell_type": "code",
      "source": [
        "important_cols = X_train.iloc[:, important_features].columns.tolist()"
      ],
      "metadata": {
        "id": "IOKf7jADoUg0"
      },
      "execution_count": null,
      "outputs": []
    },
    {
      "cell_type": "markdown",
      "source": [
        "## Подбираем параметры для Log Reg"
      ],
      "metadata": {
        "id": "MkRH4vxurR9Y"
      }
    },
    {
      "cell_type": "code",
      "source": [
        "# C = [i/100 for i in range(1, 100, 10)]\n",
        "# C.extend([1, 3, 100])\n",
        "\n",
        "# for val in tqdm(C):\n",
        "\n",
        "#     lr = LogisticRegression(C=val, max_iter=500)\n",
        "#     lr.fit(X_train, y_train)\n",
        "\n",
        "#     pred_lr = lr.predict_proba(X_val)\n",
        "#     y_val_pred_for_fraud = [x[1] for x in pred_lr]\n",
        "#     print(val, roc_auc_score(y_val, y_val_pred_for_fraud))"
      ],
      "metadata": {
        "id": "JeQhf-TnrRCg"
      },
      "execution_count": null,
      "outputs": []
    },
    {
      "cell_type": "code",
      "source": [
        "lr = LogisticRegression(max_iter=10000,\n",
        "                        warm_start=True,\n",
        "                        penalty='l1',\n",
        "                        solver='liblinear',\n",
        "                        C=3 #вроде как бест параметр\n",
        "                        )\n",
        "\n",
        "ran = np.arange(y_train.shape[0])\n",
        "inds = np.array_split(ran, 10)\n",
        "\n",
        "inds = [np.concatenate((chunk, np.array(random.sample(list(ran), k=100))), axis=None) for chunk in inds]\n",
        "\n",
        "for chunk in tqdm(inds):\n",
        "  lr.fit(X_train.iloc[chunk, :], y_train.iloc[chunk])"
      ],
      "metadata": {
        "colab": {
          "base_uri": "https://localhost:8080/"
        },
        "id": "DGaq6doD-RIb",
        "outputId": "9ce8899a-495d-4483-e613-687377cc98b7"
      },
      "execution_count": null,
      "outputs": [
        {
          "output_type": "stream",
          "name": "stderr",
          "text": [
            "100%|██████████| 10/10 [15:35<00:00, 93.51s/it] \n"
          ]
        }
      ]
    },
    {
      "cell_type": "code",
      "source": [
        "pred_lr = lr.predict_proba(X_val)\n",
        "\n",
        "y_val_pred_for_fraud = [x[1] for x in pred_lr]\n",
        "\n",
        "roc_auc_score(y_val, y_val_pred_for_fraud)"
      ],
      "metadata": {
        "colab": {
          "base_uri": "https://localhost:8080/"
        },
        "id": "I7o_Paty_-oR",
        "outputId": "e7c8589e-0048-49dc-82f4-b9ace80f1bdb"
      },
      "execution_count": null,
      "outputs": [
        {
          "output_type": "execute_result",
          "data": {
            "text/plain": [
              "0.8416049924271972"
            ]
          },
          "metadata": {},
          "execution_count": 35
        }
      ]
    },
    {
      "cell_type": "code",
      "source": [
        "import pickle\n",
        "from datetime import datetime as dt\n",
        "\n",
        "model_name = f'best_model_{dt.today()}.pkl'\n",
        "with open(model_name, 'wb') as f:\n",
        "    pickle.dump(lr, f, protocol=pickle.HIGHEST_PROTOCOL)"
      ],
      "metadata": {
        "id": "rSGbL4bIAtGL"
      },
      "execution_count": null,
      "outputs": []
    },
    {
      "cell_type": "code",
      "source": [
        "from google.colab import files\n",
        "\n",
        "files.download(model_name) "
      ],
      "metadata": {
        "id": "fGADpJTFAvPy"
      },
      "execution_count": null,
      "outputs": []
    },
    {
      "cell_type": "markdown",
      "source": [
        "## SVM"
      ],
      "metadata": {
        "id": "YTh4SyTxo6PG"
      }
    },
    {
      "cell_type": "code",
      "source": [
        "# очень долго обучается, поэтому решили попробовать снизить размерность данных \n",
        "from sklearn.decomposition import PCA\n",
        "\n",
        "pca = PCA(n_components=2) # сократим кол-во признаков\n",
        "\n",
        "X_train_new = pca.fit_transform(X_train[important_cols])\n",
        "# X_val_new = pca.transform(X_val)\n",
        "# X_test_new = pca.transform(X_test)"
      ],
      "metadata": {
        "id": "gbaecFD2Ne_Y"
      },
      "execution_count": null,
      "outputs": []
    },
    {
      "cell_type": "code",
      "source": [
        "import seaborn as sns\n",
        "\n",
        "X_train_df = pd.DataFrame(X_train_new)\n",
        "sns.scatterplot(data=X_train_df, x=0, y=1, hue=y_train)\n",
        "\n",
        "plt.show()"
      ],
      "metadata": {
        "colab": {
          "base_uri": "https://localhost:8080/",
          "height": 279
        },
        "id": "U2Pr9bcrOchT",
        "outputId": "3dc1d609-6d97-4ea6-85e0-321a76fa91b1"
      },
      "execution_count": null,
      "outputs": [
        {
          "output_type": "display_data",
          "data": {
            "text/plain": [
              "<Figure size 432x288 with 1 Axes>"
            ],
            "image/png": "[encoded data removed]"
          },
          "metadata": {
            "needs_background": "light"
          }
        }
      ]
    },
    {
      "cell_type": "markdown",
      "source": [
        "Визуально, на основе разложения, можно выделить два класса."
      ],
      "metadata": {
        "id": "IFbD2_R8RQXz"
      }
    },
    {
      "cell_type": "code",
      "source": [
        "# очень долго обучается, поэтому решили попробовать снизить размерность данных \n",
        "from sklearn.decomposition import PCA\n",
        "\n",
        "pca = PCA(n_components=70) # сократим кол-во признаков\n",
        "\n",
        "X_train_new = pca.fit_transform(X_train[important_cols])\n",
        "X_val_new = pca.transform(X_val[important_cols])\n",
        "X_test_new = pca.transform(X_test[important_cols])"
      ],
      "metadata": {
        "id": "xWjWfSSM3n93"
      },
      "execution_count": null,
      "outputs": []
    },
    {
      "cell_type": "code",
      "source": [
        "from sklearn.svm import SVC\n",
        "\n",
        "for kernel in tqdm(['linear', 'rbf', 'poly', 'sigmoid']):\n",
        "    svm = SVC(kernel=kernel,\n",
        "              probability=True,\n",
        "              verbose=True,\n",
        "              max_iter=100)\n",
        "\n",
        "    svm.fit(X_train_new, y_train)\n",
        "\n",
        "    pred = svm.predict_proba(X_val_new)\n",
        "    y_val_pred_for_fraud = [x[1] for x in pred]\n",
        "\n",
        "    print(kernel, roc_auc_score(y_val, y_val_pred_for_fraud))"
      ],
      "metadata": {
        "colab": {
          "base_uri": "https://localhost:8080/"
        },
        "id": "XKrxY-Pwo8YV",
        "outputId": "1e0030c6-6b79-4457-ba13-b23a7d60e44e"
      },
      "execution_count": null,
      "outputs": [
        {
          "output_type": "stream",
          "name": "stderr",
          "text": [
            "\r  0%|          | 0/4 [00:00<?, ?it/s]"
          ]
        },
        {
          "output_type": "stream",
          "name": "stdout",
          "text": [
            "[LibSVM]"
          ]
        },
        {
          "output_type": "stream",
          "name": "stderr",
          "text": [
            "/usr/local/lib/python3.8/dist-packages/sklearn/svm/_base.py:284: ConvergenceWarning: Solver terminated early (max_iter=100).  Consider pre-processing your data with StandardScaler or MinMaxScaler.\n",
            "  warnings.warn(\n",
            " 25%|██▌       | 1/4 [01:50<05:31, 110.60s/it]"
          ]
        },
        {
          "output_type": "stream",
          "name": "stdout",
          "text": [
            "9 0.38989439509159224\n",
            "[LibSVM]"
          ]
        },
        {
          "output_type": "stream",
          "name": "stderr",
          "text": [
            "/usr/local/lib/python3.8/dist-packages/sklearn/svm/_base.py:284: ConvergenceWarning: Solver terminated early (max_iter=100).  Consider pre-processing your data with StandardScaler or MinMaxScaler.\n",
            "  warnings.warn(\n",
            " 50%|█████     | 2/4 [04:08<04:13, 126.63s/it]"
          ]
        },
        {
          "output_type": "stream",
          "name": "stdout",
          "text": [
            "9 0.5302761369696088\n",
            "[LibSVM]"
          ]
        },
        {
          "output_type": "stream",
          "name": "stderr",
          "text": [
            "/usr/local/lib/python3.8/dist-packages/sklearn/svm/_base.py:284: ConvergenceWarning: Solver terminated early (max_iter=100).  Consider pre-processing your data with StandardScaler or MinMaxScaler.\n",
            "  warnings.warn(\n",
            " 75%|███████▌  | 3/4 [06:03<02:01, 121.20s/it]"
          ]
        },
        {
          "output_type": "stream",
          "name": "stdout",
          "text": [
            "9 0.4301017386047031\n",
            "[LibSVM]"
          ]
        },
        {
          "output_type": "stream",
          "name": "stderr",
          "text": [
            "/usr/local/lib/python3.8/dist-packages/sklearn/svm/_base.py:284: ConvergenceWarning: Solver terminated early (max_iter=100).  Consider pre-processing your data with StandardScaler or MinMaxScaler.\n",
            "  warnings.warn(\n",
            "100%|██████████| 4/4 [08:14<00:00, 123.53s/it]"
          ]
        },
        {
          "output_type": "stream",
          "name": "stdout",
          "text": [
            "9 0.640877593974018\n"
          ]
        },
        {
          "output_type": "stream",
          "name": "stderr",
          "text": [
            "\n"
          ]
        }
      ]
    },
    {
      "cell_type": "code",
      "source": [
        "from sklearn.model_selection import GridSearchCV\n",
        "from sklearn.svm import SVC\n",
        "\n",
        "svm = SVC()\n",
        "\n",
        "params = {'C' : [5, 10, 15],\n",
        "          'gamma': [1, 0.1, 0.01],\n",
        "          'kernel': ['linear', 'rbf', 'sigmoid']}\n",
        "\n",
        "gs = GridSearchCV(svm, params, cv=2, scoring='roc_auc', verbose=2)\n",
        "\n",
        "gs.fit(X_train_new, y_train)\n",
        "\n",
        "gs.best_score_, gs.best_estimator_"
      ],
      "metadata": {
        "colab": {
          "base_uri": "https://localhost:8080/"
        },
        "id": "Ktd7ayEpfkjs",
        "outputId": "d4b18a83-c7d6-4bc4-9d45-52183220b2ac"
      },
      "execution_count": null,
      "outputs": [
        {
          "output_type": "stream",
          "name": "stdout",
          "text": [
            "Fitting 2 folds for each of 27 candidates, totalling 54 fits\n"
          ]
        }
      ]
    },
    {
      "cell_type": "code",
      "source": [
        "import pickle\n",
        "from datetime import datetime as dt\n",
        "\n",
        "model_name = f'svm_best_model_{dt.today()}.pkl'\n",
        "with open(model_name, 'wb') as f:\n",
        "    pickle.dump(svm, f, protocol=pickle.HIGHEST_PROTOCOL)"
      ],
      "metadata": {
        "id": "DXGwgwYAKJfI"
      },
      "execution_count": null,
      "outputs": []
    },
    {
      "cell_type": "code",
      "source": [
        "from google.colab import files\n",
        "\n",
        "files.download(model_name) "
      ],
      "metadata": {
        "id": "T93kSkymKPBR"
      },
      "execution_count": null,
      "outputs": []
    },
    {
      "cell_type": "markdown",
      "source": [
        "## Catboost"
      ],
      "metadata": {
        "id": "9h7pZD7WUjLt"
      }
    },
    {
      "cell_type": "code",
      "source": [
        "!pip install catboost"
      ],
      "metadata": {
        "colab": {
          "base_uri": "https://localhost:8080/"
        },
        "id": "EGd7JGRlWNJn",
        "outputId": "ecede9e7-0bb8-4e84-ee5b-a5e63431cf64"
      },
      "execution_count": null,
      "outputs": [
        {
          "output_type": "stream",
          "name": "stdout",
          "text": [
            "Looking in indexes: https://pypi.org/simple, https://us-python.pkg.dev/colab-wheels/public/simple/\n",
            "Collecting catboost\n",
            "  Downloading catboost-1.1.1-cp38-none-manylinux1_x86_64.whl (76.6 MB)\n",
            "\u001b[K     |████████████████████████████████| 76.6 MB 20 kB/s \n",
            "\u001b[?25hRequirement already satisfied: six in /usr/local/lib/python3.8/dist-packages (from catboost) (1.15.0)\n",
            "Requirement already satisfied: graphviz in /usr/local/lib/python3.8/dist-packages (from catboost) (0.10.1)\n",
            "Requirement already satisfied: plotly in /usr/local/lib/python3.8/dist-packages (from catboost) (5.5.0)\n",
            "Requirement already satisfied: scipy in /usr/local/lib/python3.8/dist-packages (from catboost) (1.7.3)\n",
            "Requirement already satisfied: pandas>=0.24.0 in /usr/local/lib/python3.8/dist-packages (from catboost) (1.3.5)\n",
            "Requirement already satisfied: numpy>=1.16.0 in /usr/local/lib/python3.8/dist-packages (from catboost) (1.21.6)\n",
            "Requirement already satisfied: matplotlib in /usr/local/lib/python3.8/dist-packages (from catboost) (3.2.2)\n",
            "Requirement already satisfied: python-dateutil>=2.7.3 in /usr/local/lib/python3.8/dist-packages (from pandas>=0.24.0->catboost) (2.8.2)\n",
            "Requirement already satisfied: pytz>=2017.3 in /usr/local/lib/python3.8/dist-packages (from pandas>=0.24.0->catboost) (2022.6)\n",
            "Requirement already satisfied: kiwisolver>=1.0.1 in /usr/local/lib/python3.8/dist-packages (from matplotlib->catboost) (1.4.4)\n",
            "Requirement already satisfied: cycler>=0.10 in /usr/local/lib/python3.8/dist-packages (from matplotlib->catboost) (0.11.0)\n",
            "Requirement already satisfied: pyparsing!=2.0.4,!=2.1.2,!=2.1.6,>=2.0.1 in /usr/local/lib/python3.8/dist-packages (from matplotlib->catboost) (3.0.9)\n",
            "Requirement already satisfied: tenacity>=6.2.0 in /usr/local/lib/python3.8/dist-packages (from plotly->catboost) (8.1.0)\n",
            "Installing collected packages: catboost\n",
            "Successfully installed catboost-1.1.1\n"
          ]
        }
      ]
    },
    {
      "cell_type": "code",
      "source": [
        "from catboost import CatBoostClassifier\n",
        "\n",
        "params = {\n",
        "    'iterations': 2500,\n",
        "    'depth': 8,\n",
        "    'loss_function' : 'Logloss',\n",
        "    'eval_metric' : 'AUC',\n",
        "    'learning_rate': .1,\n",
        "    'random_seed': 42,\n",
        "    'od_wait': 5,\n",
        "    'verbose': 100\n",
        "}\n",
        "\n",
        "model = CatBoostClassifier(**params)\n",
        "\n",
        "model.fit(X_train, y_train)"
      ],
      "metadata": {
        "colab": {
          "base_uri": "https://localhost:8080/"
        },
        "id": "us0cBRw8Uk8u",
        "outputId": "d956e5c7-245a-4104-819e-1e33accda1e6"
      },
      "execution_count": null,
      "outputs": [
        {
          "output_type": "stream",
          "name": "stdout",
          "text": [
            "0:\ttotal: 112ms\tremaining: 4m 40s\n",
            "100:\ttotal: 13.5s\tremaining: 5m 21s\n",
            "200:\ttotal: 28.6s\tremaining: 5m 27s\n",
            "300:\ttotal: 45.2s\tremaining: 5m 30s\n",
            "400:\ttotal: 59.2s\tremaining: 5m 9s\n",
            "500:\ttotal: 1m 14s\tremaining: 4m 57s\n",
            "600:\ttotal: 1m 27s\tremaining: 4m 36s\n",
            "700:\ttotal: 1m 40s\tremaining: 4m 18s\n",
            "800:\ttotal: 1m 54s\tremaining: 4m 2s\n",
            "900:\ttotal: 2m 7s\tremaining: 3m 46s\n",
            "1000:\ttotal: 2m 22s\tremaining: 3m 33s\n",
            "1100:\ttotal: 2m 36s\tremaining: 3m 19s\n",
            "1200:\ttotal: 2m 54s\tremaining: 3m 8s\n",
            "1300:\ttotal: 3m 7s\tremaining: 2m 52s\n",
            "1400:\ttotal: 3m 20s\tremaining: 2m 37s\n",
            "1500:\ttotal: 3m 35s\tremaining: 2m 23s\n",
            "1600:\ttotal: 3m 48s\tremaining: 2m 8s\n",
            "1700:\ttotal: 4m 2s\tremaining: 1m 53s\n",
            "1800:\ttotal: 4m 16s\tremaining: 1m 39s\n",
            "1900:\ttotal: 4m 30s\tremaining: 1m 25s\n",
            "2000:\ttotal: 4m 44s\tremaining: 1m 10s\n",
            "2100:\ttotal: 4m 57s\tremaining: 56.5s\n",
            "2200:\ttotal: 5m 10s\tremaining: 42.2s\n",
            "2300:\ttotal: 5m 24s\tremaining: 28.1s\n",
            "2400:\ttotal: 5m 39s\tremaining: 14s\n",
            "2499:\ttotal: 5m 53s\tremaining: 0us\n"
          ]
        },
        {
          "output_type": "execute_result",
          "data": {
            "text/plain": [
              "<catboost.core.CatBoostClassifier at 0x7f14e6f74a60>"
            ]
          },
          "metadata": {},
          "execution_count": 70
        }
      ]
    },
    {
      "cell_type": "code",
      "source": [
        "pred = model.predict_proba(X_val)\n",
        "\n",
        "y_val_pred_for_fraud = [x[1] for x in pred]\n",
        "\n",
        "print(roc_auc_score(y_val, y_val_pred_for_fraud))"
      ],
      "metadata": {
        "colab": {
          "base_uri": "https://localhost:8080/"
        },
        "id": "c6HEYS0hXqq_",
        "outputId": "661c79ad-0f63-4a8c-d305-cd81ef952996"
      },
      "execution_count": null,
      "outputs": [
        {
          "output_type": "stream",
          "name": "stdout",
          "text": [
            "0.953148859883551\n"
          ]
        }
      ]
    },
    {
      "cell_type": "code",
      "source": [
        "import pickle\n",
        "from datetime import datetime as dt\n",
        "\n",
        "model_name = f'catboost_best_model_{dt.today()}.pkl'\n",
        "with open(model_name, 'wb') as f:\n",
        "    pickle.dump(model, f, protocol=pickle.HIGHEST_PROTOCOL)"
      ],
      "metadata": {
        "id": "NnItr_vQYS2S"
      },
      "execution_count": null,
      "outputs": []
    },
    {
      "cell_type": "code",
      "source": [
        "from google.colab import files\n",
        "\n",
        "files.download(model_name)"
      ],
      "metadata": {
        "colab": {
          "base_uri": "https://localhost:8080/",
          "height": 17
        },
        "id": "HKXMM25eZh1z",
        "outputId": "14a3c180-efe3-4e70-f2a7-1eec728a5e00"
      },
      "execution_count": null,
      "outputs": [
        {
          "output_type": "display_data",
          "data": {
            "text/plain": [
              "<IPython.core.display.Javascript object>"
            ],
            "application/javascript": [
              "\n",
              "    async function download(id, filename, size) {\n",
              "      if (!google.colab.kernel.accessAllowed) {\n",
              "        return;\n",
              "      }\n",
              "      const div = document.createElement('div');\n",
              "      const label = document.createElement('label');\n",
              "      label.textContent = `Downloading \"${filename}\": `;\n",
              "      div.appendChild(label);\n",
              "      const progress = document.createElement('progress');\n",
              "      progress.max = size;\n",
              "      div.appendChild(progress);\n",
              "      document.body.appendChild(div);\n",
              "\n",
              "      const buffers = [];\n",
              "      let downloaded = 0;\n",
              "\n",
              "      const channel = await google.colab.kernel.comms.open(id);\n",
              "      // Send a message to notify the kernel that we're ready.\n",
              "      channel.send({})\n",
              "\n",
              "      for await (const message of channel.messages) {\n",
              "        // Send a message to notify the kernel that we're ready.\n",
              "        channel.send({})\n",
              "        if (message.buffers) {\n",
              "          for (const buffer of message.buffers) {\n",
              "            buffers.push(buffer);\n",
              "            downloaded += buffer.byteLength;\n",
              "            progress.value = downloaded;\n",
              "          }\n",
              "        }\n",
              "      }\n",
              "      const blob = new Blob(buffers, {type: 'application/binary'});\n",
              "      const a = document.createElement('a');\n",
              "      a.href = window.URL.createObjectURL(blob);\n",
              "      a.download = filename;\n",
              "      div.appendChild(a);\n",
              "      a.click();\n",
              "      div.remove();\n",
              "    }\n",
              "  "
            ]
          },
          "metadata": {}
        },
        {
          "output_type": "display_data",
          "data": {
            "text/plain": [
              "<IPython.core.display.Javascript object>"
            ],
            "application/javascript": [
              "download(\"download_dcf39e55-1d42-4a29-a8a0-16b05a4d86e7\", \"catboost_best_model_2022-12-23 19:16:45.469662.pkl\", 10454427)"
            ]
          },
          "metadata": {}
        }
      ]
    },
    {
      "cell_type": "markdown",
      "source": [
        "## Тестовый сабмит "
      ],
      "metadata": {
        "id": "QrF7lyGtme2W"
      }
    },
    {
      "cell_type": "code",
      "source": [
        "pred_lr = lr.predict_proba(X_test)"
      ],
      "metadata": {
        "id": "luXGSRd_gJdV"
      },
      "execution_count": null,
      "outputs": []
    },
    {
      "cell_type": "code",
      "source": [
        "sample = pd.read_csv('sample_submission.csv')\n",
        "sample.shape"
      ],
      "metadata": {
        "colab": {
          "base_uri": "https://localhost:8080/"
        },
        "id": "rfa2yEFgfvWR",
        "outputId": "0207b365-3f9a-49e2-de13-22c2809dfd5a"
      },
      "execution_count": null,
      "outputs": [
        {
          "output_type": "execute_result",
          "data": {
            "text/plain": [
              "(506691, 2)"
            ]
          },
          "metadata": {},
          "execution_count": 188
        }
      ]
    },
    {
      "cell_type": "code",
      "source": [
        "pred = model.predict_proba(X_test)"
      ],
      "metadata": {
        "id": "moTJ4jA5Yce6"
      },
      "execution_count": null,
      "outputs": []
    },
    {
      "cell_type": "code",
      "source": [
        "result = test_transaction['TransactionID'].reset_index()\n",
        "\n",
        "result['isFraud'] = [fraud for notfraud, fraud in pred]"
      ],
      "metadata": {
        "id": "NXeuPjd0f_2r"
      },
      "execution_count": null,
      "outputs": []
    },
    {
      "cell_type": "code",
      "source": [
        "cols = ['TransactionID','isFraud']\n",
        "result[cols].to_csv('prediction.csv', index=False)"
      ],
      "metadata": {
        "id": "wxBvYlUSjrqP"
      },
      "execution_count": null,
      "outputs": []
    },
    {
      "cell_type": "code",
      "source": [
        "!kaggle competitions submit -c ieee-fraud-detection -f  prediction.csv -m \"Message\""
      ],
      "metadata": {
        "colab": {
          "base_uri": "https://localhost:8080/"
        },
        "id": "h_yaNP_RYn_W",
        "outputId": "3ce28751-270e-4726-8e49-9a1a294c8d44"
      },
      "execution_count": null,
      "outputs": [
        {
          "output_type": "stream",
          "name": "stdout",
          "text": [
            "100% 14.2M/14.2M [00:01<00:00, 8.57MB/s]\n",
            "Successfully submitted to IEEE-CIS Fraud Detection"
          ]
        }
      ]
    }
  ]
}
